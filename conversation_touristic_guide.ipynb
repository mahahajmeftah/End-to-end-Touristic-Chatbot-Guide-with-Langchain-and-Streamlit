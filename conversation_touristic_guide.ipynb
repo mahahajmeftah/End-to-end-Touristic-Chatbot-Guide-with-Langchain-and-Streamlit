{
 "cells": [
  {
   "cell_type": "code",
   "execution_count": 1,
   "metadata": {},
   "outputs": [],
   "source": [
    "import os\n",
    "from dotenv import load_dotenv\n",
    "\n",
    "load_dotenv()\n",
    "\n",
    "openai_key = os.environ['OPENAI_API_KEY']\n",
    "serp_key = os.environ[\"SERPAPI_API_KEY\"]"
   ]
  },
  {
   "cell_type": "code",
   "execution_count": 2,
   "metadata": {},
   "outputs": [
    {
     "name": "stderr",
     "output_type": "stream",
     "text": [
      "C:\\Users\\hajme\\AppData\\Local\\Temp\\ipykernel_24220\\2581345455.py:3: LangChainDeprecationWarning: The class `ChatOpenAI` was deprecated in LangChain 0.0.10 and will be removed in 1.0. An updated version of the class exists in the :class:`~langchain-openai package and should be used instead. To use it run `pip install -U :class:`~langchain-openai` and import as `from :class:`~langchain_openai import ChatOpenAI``.\n",
      "  llm= ChatOpenAI() #select the model\n",
      "C:\\Users\\hajme\\AppData\\Local\\Temp\\ipykernel_24220\\2581345455.py:32: LangChainDeprecationWarning: The class `OpenAIEmbeddings` was deprecated in LangChain 0.0.9 and will be removed in 1.0. An updated version of the class exists in the :class:`~langchain-openai package and should be used instead. To use it run `pip install -U :class:`~langchain-openai` and import as `from :class:`~langchain_openai import OpenAIEmbeddings``.\n",
      "  db = FAISS.from_documents(document_splitted,OpenAIEmbeddings())\n"
     ]
    }
   ],
   "source": [
    "from langchain.chat_models import ChatOpenAI \n",
    "from langchain.agents.agent_toolkits import create_conversational_retrieval_agent\n",
    "llm= ChatOpenAI() #select the model \n",
    "\n",
    "from langchain.utilities import SerpAPIWrapper\n",
    "from langchain.tools import Tool\n",
    "\n",
    "serp_search = SerpAPIWrapper()\n",
    "\n",
    "\n",
    "#search_tool \n",
    "serp_search_tool = Tool(\n",
    "    name=\"Search\",\n",
    "    func=serp_search.run,\n",
    "    description=\"Useful for when you need to answer questions about current events. You should ask targeted questions\"\n",
    ")\n",
    "\n",
    "from langchain.document_loaders import PyPDFLoader\n",
    "from langchain.text_splitter import RecursiveCharacterTextSplitter\n",
    "from langchain.embeddings.openai import OpenAIEmbeddings\n",
    "from langchain.vectorstores import FAISS\n",
    "\n",
    "raw_document = PyPDFLoader('tunisia_travler_guide.pdf').load()\n",
    "\n",
    "#texter splitter\n",
    "text_splitter = RecursiveCharacterTextSplitter(\n",
    "    chunk_size = 1500,\n",
    "    chunk_overlap=200\n",
    ")\n",
    "\n",
    "document_splitted = text_splitter.split_documents(raw_document)\n",
    "db = FAISS.from_documents(document_splitted,OpenAIEmbeddings())\n",
    "\n",
    "from langchain.agents.agent_toolkits import create_retriever_tool\n",
    "\n",
    "#tunisia_retrival_tool\n",
    "tunisia_retrival_tool = create_retriever_tool(\n",
    " db.as_retriever(),\n",
    " \"tunisia_travel\",\n",
    " \"Searches and returns documents regarding Tunisia.\"\n",
    ")\n",
    "\n",
    "\n",
    "tools = [serp_search_tool,tunisia_retrival_tool]\n",
    "\n",
    "\n",
    "tunisia_guide = create_conversational_retrieval_agent(\n",
    "  llm,tools=tools, memory_key='chat_history'\n",
    ") #create our agent the memory argument is what will make the agent keep track \n",
    "# of the chat history"
   ]
  },
  {
   "cell_type": "code",
   "execution_count": 9,
   "metadata": {},
   "outputs": [
    {
     "name": "stdout",
     "output_type": "stream",
     "text": [
      "Spending 2 days in both Tunis and Sousse can give you a taste of Tunisia's diverse offerings, from historical sites to beach relaxation. Here is a suggested itinerary for your 2-day trip to Tunis and Sousse:\n",
      "\n",
      "Day 1:\n",
      "- Morning: Start your day in Tunis by exploring the historic Medina, visiting landmarks like the Zitouna Mosque and shopping for souvenirs in the bustling souks.\n",
      "- Lunch: Enjoy a traditional Tunisian meal at a local restaurant in the Medina.\n",
      "- Afternoon: Visit the Bardo Museum to admire its collection of Roman mosaics and artifacts.\n",
      "- Evening: Head to Sidi Bou Said, a picturesque village overlooking the Mediterranean Sea, for a leisurely stroll and a cup of mint tea.\n",
      "\n",
      "Day 2:\n",
      "- Morning: Travel to Sousse, a coastal city known for its beaches and historical sites. Visit the Medina of Sousse, a UNESCO World Heritage site, and explore its narrow streets and traditional architecture.\n",
      "- Lunch: Enjoy fresh seafood at a restaurant overlooking the sea in Sousse.\n",
      "- Afternoon: Visit the Ribat of Sousse, a fortress that offers panoramic views of the city and the coast.\n",
      "- Evening: Relax on the beach in Sousse, soak up the sun, and enjoy the Mediterranean breeze.\n",
      "\n",
      "This itinerary allows you to experience the highlights of both Tunis and Sousse in just 2 days, combining cultural exploration in the capital with beach relaxation in the coastal city. Feel free to adjust the schedule based on your interests and preferences.\n"
     ]
    }
   ],
   "source": [
    "response =tunisia_guide({\"input\": \"I want to spend 2 days in Tunis and Sousse\"})\n",
    "print(response['output'])"
   ]
  },
  {
   "cell_type": "code",
   "execution_count": 5,
   "metadata": {},
   "outputs": [
    {
     "name": "stdout",
     "output_type": "stream",
     "text": [
      "The three top most visited cities in Tunisia are:\n",
      "\n",
      "1. Tunis: Known for its Avenue Habib Bourguiba, one of the longest streets in Tunis, lined with cafes, stores, modern hotels, and colonial-style buildings. It is popularly known as the Champs Elysees of Tunisia.\n",
      "2. Kairouan: A mid-sized city with attractions like the Medina (old market), The Great Mosque (one of the oldest in the world), and Sidi Saheb Zaouia (\"Mosque of the Barber\") which is home to the tomb of a companion of the Prophet.\n",
      "3. Tunis (again): Mentioned for the Zitouna Mosque, a fascinating fusion of buildings from different periods, with columns and capitals from ancient Carthage, an Ottoman minaret, and Zirid domes. Non-Muslims are only permitted to access the central courtyard of the mosque.\n"
     ]
    }
   ],
   "source": [
    "print(response['output'])"
   ]
  }
 ],
 "metadata": {
  "kernelspec": {
   "display_name": "myenv",
   "language": "python",
   "name": "python3"
  },
  "language_info": {
   "codemirror_mode": {
    "name": "ipython",
    "version": 3
   },
   "file_extension": ".py",
   "mimetype": "text/x-python",
   "name": "python",
   "nbconvert_exporter": "python",
   "pygments_lexer": "ipython3",
   "version": "3.12.5"
  }
 },
 "nbformat": 4,
 "nbformat_minor": 2
}
